{
 "cells": [
  {
   "cell_type": "markdown",
   "metadata": {},
   "source": [
    "# Preparation"
   ]
  },
  {
   "cell_type": "markdown",
   "metadata": {},
   "source": [
    "Questo notebook contiene la pulizia preliminare del dataset e la divisione in frasi riguardanti Camera e Senato (in due csv)."
   ]
  },
  {
   "cell_type": "code",
   "execution_count": 19,
   "metadata": {},
   "outputs": [
    {
     "data": {
      "text/html": [
       "<div>\n",
       "<style scoped>\n",
       "    .dataframe tbody tr th:only-of-type {\n",
       "        vertical-align: middle;\n",
       "    }\n",
       "\n",
       "    .dataframe tbody tr th {\n",
       "        vertical-align: top;\n",
       "    }\n",
       "\n",
       "    .dataframe thead th {\n",
       "        text-align: right;\n",
       "    }\n",
       "</style>\n",
       "<table border=\"1\" class=\"dataframe\">\n",
       "  <thead>\n",
       "    <tr style=\"text-align: right;\">\n",
       "      <th></th>\n",
       "      <th>id</th>\n",
       "      <th>title</th>\n",
       "      <th>date</th>\n",
       "      <th>num_articles</th>\n",
       "      <th>description</th>\n",
       "      <th>prep_works</th>\n",
       "    </tr>\n",
       "  </thead>\n",
       "  <tbody>\n",
       "    <tr>\n",
       "      <th>0</th>\n",
       "      <td>25G00016</td>\n",
       "      <td>L. 11/2025</td>\n",
       "      <td>11/02/2025</td>\n",
       "      <td>11</td>\n",
       "      <td>Istituzione del Parco ambientale per lo svilup...</td>\n",
       "      <td>LAVORI PREPARATORI Camera dei deputati (atto n...</td>\n",
       "    </tr>\n",
       "    <tr>\n",
       "      <th>1</th>\n",
       "      <td>25G00014</td>\n",
       "      <td>L. 7/2025</td>\n",
       "      <td>31/01/2025</td>\n",
       "      <td>1</td>\n",
       "      <td>Conversione in legge del decreto-legge 27 dice...</td>\n",
       "      <td>LAVORI PREPARATORI Senato della Repubblica (at...</td>\n",
       "    </tr>\n",
       "    <tr>\n",
       "      <th>2</th>\n",
       "      <td>25G00011</td>\n",
       "      <td>L. 6/2025</td>\n",
       "      <td>31/01/2025</td>\n",
       "      <td>4</td>\n",
       "      <td>Istituzione della Giornata degli internati ita...</td>\n",
       "      <td>LAVORI PREPARATORI Camera dei deputati (atto n...</td>\n",
       "    </tr>\n",
       "    <tr>\n",
       "      <th>3</th>\n",
       "      <td>25G00009</td>\n",
       "      <td>L. 4/2025</td>\n",
       "      <td>24/01/2025</td>\n",
       "      <td>2</td>\n",
       "      <td>Conversione in legge, con modificazioni, del d...</td>\n",
       "      <td>LAVORI PREPARATORI Senato della Repubblica (at...</td>\n",
       "    </tr>\n",
       "    <tr>\n",
       "      <th>4</th>\n",
       "      <td>25G00008</td>\n",
       "      <td>L. 2/2025</td>\n",
       "      <td>24/01/2025</td>\n",
       "      <td>35</td>\n",
       "      <td>Ratifica ed esecuzione della Convenzione tra i...</td>\n",
       "      <td>LAVORI PREPARATORI Senato della Repubblica (at...</td>\n",
       "    </tr>\n",
       "  </tbody>\n",
       "</table>\n",
       "</div>"
      ],
      "text/plain": [
       "         id       title        date  num_articles  \\\n",
       "0  25G00016  L. 11/2025  11/02/2025            11   \n",
       "1  25G00014   L. 7/2025  31/01/2025             1   \n",
       "2  25G00011   L. 6/2025  31/01/2025             4   \n",
       "3  25G00009   L. 4/2025  24/01/2025             2   \n",
       "4  25G00008   L. 2/2025  24/01/2025            35   \n",
       "\n",
       "                                         description  \\\n",
       "0  Istituzione del Parco ambientale per lo svilup...   \n",
       "1  Conversione in legge del decreto-legge 27 dice...   \n",
       "2  Istituzione della Giornata degli internati ita...   \n",
       "3  Conversione in legge, con modificazioni, del d...   \n",
       "4  Ratifica ed esecuzione della Convenzione tra i...   \n",
       "\n",
       "                                          prep_works  \n",
       "0  LAVORI PREPARATORI Camera dei deputati (atto n...  \n",
       "1  LAVORI PREPARATORI Senato della Repubblica (at...  \n",
       "2  LAVORI PREPARATORI Camera dei deputati (atto n...  \n",
       "3  LAVORI PREPARATORI Senato della Repubblica (at...  \n",
       "4  LAVORI PREPARATORI Senato della Repubblica (at...  "
      ]
     },
     "execution_count": 19,
     "metadata": {},
     "output_type": "execute_result"
    }
   ],
   "source": [
    "import pandas as pd\n",
    "from utils import *\n",
    "\n",
    "df = pd.read_csv('normattiva_prep_works.csv')\n",
    "\n",
    "df.head()"
   ]
  },
  {
   "cell_type": "code",
   "execution_count": 20,
   "metadata": {},
   "outputs": [
    {
     "name": "stdout",
     "output_type": "stream",
     "text": [
      "         id                                         prep_works\n",
      "0  25G00016  LAVORI PREPARATORI Camera dei deputati (atto n...\n",
      "1  25G00014  LAVORI PREPARATORI Senato della Repubblica (at...\n",
      "2  25G00011  LAVORI PREPARATORI Camera dei deputati (atto n...\n",
      "3  25G00009  LAVORI PREPARATORI Senato della Repubblica (at...\n",
      "4  25G00008  LAVORI PREPARATORI Senato della Repubblica (at...\n"
     ]
    }
   ],
   "source": [
    "# Get small dataframe [id,text] to work with\n",
    "df_corpus = df[['id','prep_works']].head(50)\n",
    "print(df_corpus.head())"
   ]
  },
  {
   "cell_type": "code",
   "execution_count": 21,
   "metadata": {},
   "outputs": [
    {
     "name": "stdout",
     "output_type": "stream",
     "text": [
      "         id                                         prep_works\n",
      "0  25G00016  Camera dei deputati (atto n. 400): Presentato ...\n",
      "1  25G00014  Senato della Repubblica (atto n. 1335): Presen...\n",
      "2  25G00011  Camera dei deputati (atto n. 1835): Presentato...\n",
      "3  25G00009  Senato della Repubblica (atto n. 1315): Presen...\n",
      "4  25G00008  Senato della Repubblica (atto n. 1128): Presen...\n"
     ]
    }
   ],
   "source": [
    "# Function to remove 'LAVORI PREPARATORI ' from text\n",
    "def remove_prep_works(text):\n",
    "    return text.replace('LAVORI PREPARATORI ', '')\n",
    "\n",
    "# Apply function to text\n",
    "df_corpus['prep_works'] = df_corpus['prep_works'].apply(remove_prep_works)\n",
    "\n",
    "print(df_corpus.head())"
   ]
  },
  {
   "cell_type": "markdown",
   "metadata": {},
   "source": [
    "Rimpiazza le abbreviazioni"
   ]
  },
  {
   "cell_type": "code",
   "execution_count": 22,
   "metadata": {},
   "outputs": [],
   "source": [
    "# Replace abbreviations\n",
    "\n",
    "df_corpus['prep_works'] = df_corpus['prep_works'].astype(str).apply(replace_abbreviations)"
   ]
  },
  {
   "cell_type": "code",
   "execution_count": 23,
   "metadata": {},
   "outputs": [
    {
     "data": {
      "text/plain": [
       "[\"Camera dei deputati (atto n. 400): Presentato dall'Onorevole Marco Simiani (PD-IDP) e altri, in data 19 ottobre 2022.\",\n",
       " 'Assegnato alla VIII Commissione (Ambiente, territorio e lavori pubblici), in sede referente, il 23 novembre 2022, con i pareri delle commissioni I (Affari costituzionali, della Presidenza del Consiglio e Interni), II (Giustizia), V (Bilancio, tesoro e programmazione), XI (Lavoro pubblico e privato) e per le Questioni regionali.',\n",
       " 'Esaminato dalla Commissione VIII (Ambiente, territorio e lavori pubblici), in sede referente, il 15, il 21 e il 28 novembre 2023; il 17 gennaio 2024; il 7 febbraio 2024; il 23 aprile 2024; il 5 agosto 2024; il 2 ottobre 2024.',\n",
       " \"Esaminato in Aula il 16 ottobre 2024 e trasferito all'VIII Commissione (Ambiente, territorio e lavori pubblici), in sede legislativa, il 17 ottobre 2024.\",\n",
       " 'Nuovamente assegnato alla VIII Commissione (Ambiente, territorio e lavori pubblici), in sede legislativa, il 17 ottobre 2024, con i pareri delle commissioni I (Affari costituzionali, della Presidenza del Consiglio e Interni), II (Giustizia), V (Bilancio, tesoro e programmazione), XI (Lavoro pubblico e privato) e per le Questioni regionali.',\n",
       " \"Esaminato e approvato in testo unificato con l'Atto Camera 1080, Atto Camera 1202, e Atto Camera C. 1286, dalla Commissione VIII (Ambiente, territorio e lavori pubblici), in sede legislativa, il 17 ottobre 2024.\",\n",
       " \"Senato della Repubblica (atto n. 1275): Assegnato alla 8ª Commissione (Ambiente, transizione ecologica, energia, lavori pubblici, comunicazioni, innovazione tecnologica), in sede redigente, il 30 ottobre 2024, con i pareri delle commissioni 1ª (Affari costituzionali, affari della Presidenza del Consiglio e dell'Interno, ordinamento generale dello Stato e della Pubblica Amministrazione, editoria, digitalizzazione), 2ª (Giustizia), 5ª (Programmazione economica, bilancio), 10ª (Affari sociali, sanità, lavoro pubblico e privato, previdenza sociale) e per le Questioni regionali.\",\n",
       " \"Esaminato dalla Commissione 8ª (Ambiente, transizione ecologica, energia, lavori pubblici, comunicazioni, innovazione tecnologica), in sede redigente, l'11 e il 18 dicembre 2024; l'8, il 15 e il 21 gennaio 2025.\",\n",
       " 'Esaminato ed approvato definitivamente in Aula il 22 gennaio 2025.']"
      ]
     },
     "execution_count": 23,
     "metadata": {},
     "output_type": "execute_result"
    }
   ],
   "source": [
    "# Per ogni riga 'id' in 'prep_works', crea una nuova colonna 'sentences' con l'array di frasi\n",
    "df_corpus['sentences'] = df_corpus['prep_works'].apply(lambda text: splitter_e_tokenizzatore(text)[0])\n",
    "\n",
    "df_corpus['sentences'].head().iloc[0]"
   ]
  },
  {
   "cell_type": "markdown",
   "metadata": {},
   "source": [
    "Divisione in Camera e Senato"
   ]
  },
  {
   "cell_type": "code",
   "execution_count": 24,
   "metadata": {},
   "outputs": [
    {
     "data": {
      "text/html": [
       "<div>\n",
       "<style scoped>\n",
       "    .dataframe tbody tr th:only-of-type {\n",
       "        vertical-align: middle;\n",
       "    }\n",
       "\n",
       "    .dataframe tbody tr th {\n",
       "        vertical-align: top;\n",
       "    }\n",
       "\n",
       "    .dataframe thead th {\n",
       "        text-align: right;\n",
       "    }\n",
       "</style>\n",
       "<table border=\"1\" class=\"dataframe\">\n",
       "  <thead>\n",
       "    <tr style=\"text-align: right;\">\n",
       "      <th></th>\n",
       "      <th>id</th>\n",
       "      <th>prep_works</th>\n",
       "      <th>sentences</th>\n",
       "      <th>camera</th>\n",
       "      <th>senato</th>\n",
       "    </tr>\n",
       "  </thead>\n",
       "  <tbody>\n",
       "    <tr>\n",
       "      <th>0</th>\n",
       "      <td>25G00016</td>\n",
       "      <td>Camera dei deputati (atto n. 400): Presentato ...</td>\n",
       "      <td>[Camera dei deputati (atto n. 400): Presentato...</td>\n",
       "      <td>[Camera dei deputati (atto n. 400): Presentato...</td>\n",
       "      <td>[Senato della Repubblica (atto n. 1275): Asseg...</td>\n",
       "    </tr>\n",
       "    <tr>\n",
       "      <th>1</th>\n",
       "      <td>25G00014</td>\n",
       "      <td>Senato della Repubblica (atto n. 1335): Presen...</td>\n",
       "      <td>[Senato della Repubblica (atto n. 1335): Prese...</td>\n",
       "      <td>[Camera dei deputati (atto n. 2206): Assegnato...</td>\n",
       "      <td>[Senato della Repubblica (atto n. 1335): Prese...</td>\n",
       "    </tr>\n",
       "    <tr>\n",
       "      <th>2</th>\n",
       "      <td>25G00011</td>\n",
       "      <td>Camera dei deputati (atto n. 1835): Presentato...</td>\n",
       "      <td>[Camera dei deputati (atto n. 1835): Presentat...</td>\n",
       "      <td>[Camera dei deputati (atto n. 1835): Presentat...</td>\n",
       "      <td>[Senato della Repubblica (atto n. 1239): Asseg...</td>\n",
       "    </tr>\n",
       "    <tr>\n",
       "      <th>3</th>\n",
       "      <td>25G00009</td>\n",
       "      <td>Senato della Repubblica (atto n. 1315): Presen...</td>\n",
       "      <td>[Senato della Repubblica (atto n. 1315): Prese...</td>\n",
       "      <td>[Camera dei deputati (atto n. 2196): Assegnato...</td>\n",
       "      <td>[Senato della Repubblica (atto n. 1315): Prese...</td>\n",
       "    </tr>\n",
       "    <tr>\n",
       "      <th>4</th>\n",
       "      <td>25G00008</td>\n",
       "      <td>Senato della Repubblica (atto n. 1128): Presen...</td>\n",
       "      <td>[Senato della Repubblica (atto n. 1128): Prese...</td>\n",
       "      <td>[Camera dei deputati (atto n. 2031): Assegnato...</td>\n",
       "      <td>[Senato della Repubblica (atto n. 1128): Prese...</td>\n",
       "    </tr>\n",
       "  </tbody>\n",
       "</table>\n",
       "</div>"
      ],
      "text/plain": [
       "         id                                         prep_works  \\\n",
       "0  25G00016  Camera dei deputati (atto n. 400): Presentato ...   \n",
       "1  25G00014  Senato della Repubblica (atto n. 1335): Presen...   \n",
       "2  25G00011  Camera dei deputati (atto n. 1835): Presentato...   \n",
       "3  25G00009  Senato della Repubblica (atto n. 1315): Presen...   \n",
       "4  25G00008  Senato della Repubblica (atto n. 1128): Presen...   \n",
       "\n",
       "                                           sentences  \\\n",
       "0  [Camera dei deputati (atto n. 400): Presentato...   \n",
       "1  [Senato della Repubblica (atto n. 1335): Prese...   \n",
       "2  [Camera dei deputati (atto n. 1835): Presentat...   \n",
       "3  [Senato della Repubblica (atto n. 1315): Prese...   \n",
       "4  [Senato della Repubblica (atto n. 1128): Prese...   \n",
       "\n",
       "                                              camera  \\\n",
       "0  [Camera dei deputati (atto n. 400): Presentato...   \n",
       "1  [Camera dei deputati (atto n. 2206): Assegnato...   \n",
       "2  [Camera dei deputati (atto n. 1835): Presentat...   \n",
       "3  [Camera dei deputati (atto n. 2196): Assegnato...   \n",
       "4  [Camera dei deputati (atto n. 2031): Assegnato...   \n",
       "\n",
       "                                              senato  \n",
       "0  [Senato della Repubblica (atto n. 1275): Asseg...  \n",
       "1  [Senato della Repubblica (atto n. 1335): Prese...  \n",
       "2  [Senato della Repubblica (atto n. 1239): Asseg...  \n",
       "3  [Senato della Repubblica (atto n. 1315): Prese...  \n",
       "4  [Senato della Repubblica (atto n. 1128): Prese...  "
      ]
     },
     "execution_count": 24,
     "metadata": {},
     "output_type": "execute_result"
    }
   ],
   "source": [
    "# Funzione per dividere il testo in base ai titoli \"Camera dei deputati\" e \"Senato della Repubblica\"\n",
    "def divide_in_eventi(frasi):\n",
    "    # Trova l'indice dove inizia la parte del Senato e Camera\n",
    "    senato_start = next((i for i, frase in enumerate(frasi) if 'Senato della Repubblica' in frase), None)\n",
    "    camera_start = next((i for i, frase in enumerate(frasi) if 'Camera dei deputati' in frase), None)\n",
    "\n",
    "    if camera_start < senato_start:\n",
    "        # Dividi la lista in due sezioni: camera e senato\n",
    "        camera_frasi = frasi[:senato_start]\n",
    "        senato_frasi = frasi[senato_start:]\n",
    "    else:\n",
    "        senato_frasi = frasi[:camera_start]\n",
    "        camera_frasi = frasi[camera_start:]\n",
    "        \n",
    "    return camera_frasi, senato_frasi\n",
    "\n",
    "# Applicare la funzione a tutte le righe e separare i risultati in due nuove colonne\n",
    "df_corpus[['camera', 'senato']] = pd.DataFrame(df_corpus['sentences'].apply(divide_in_eventi).tolist(), index=df_corpus.index)\n",
    "\n",
    "# Mostra il DataFrame\n",
    "df_corpus.head()"
   ]
  },
  {
   "cell_type": "code",
   "execution_count": 25,
   "metadata": {},
   "outputs": [
    {
     "name": "stdout",
     "output_type": "stream",
     "text": [
      "<class 'list'>\n"
     ]
    }
   ],
   "source": [
    "print(type(df_corpus['camera'].iloc[0]))"
   ]
  },
  {
   "cell_type": "code",
   "execution_count": 26,
   "metadata": {},
   "outputs": [
    {
     "name": "stdout",
     "output_type": "stream",
     "text": [
      "         id                                             camera\n",
      "0  25G00016  [Camera dei deputati (atto n. 400): Presentato...\n",
      "1  25G00014  [Camera dei deputati (atto n. 2206): Assegnato...\n",
      "2  25G00011  [Camera dei deputati (atto n. 1835): Presentat...\n",
      "3  25G00009  [Camera dei deputati (atto n. 2196): Assegnato...\n",
      "4  25G00008  [Camera dei deputati (atto n. 2031): Assegnato...\n"
     ]
    }
   ],
   "source": [
    "import ast\n",
    "\n",
    "# Crea DataFrame solo per df['camera']\n",
    "df_camera = pd.DataFrame(df_corpus, columns=['id', 'camera'])\n",
    "\n",
    "# Salva come CSV\n",
    "df_camera.to_csv('camera.csv', index=False)\n",
    "\n",
    "# Verifica il risultato\n",
    "print(df_camera.head())"
   ]
  },
  {
   "cell_type": "code",
   "execution_count": 10,
   "metadata": {},
   "outputs": [
    {
     "name": "stdout",
     "output_type": "stream",
     "text": [
      "<class 'list'>\n"
     ]
    }
   ],
   "source": [
    "print(type(df_camera['camera'].iloc[0]))"
   ]
  },
  {
   "cell_type": "code",
   "execution_count": 8,
   "metadata": {},
   "outputs": [
    {
     "name": "stdout",
     "output_type": "stream",
     "text": [
      "         id                                             senato\n",
      "0  25G00016  [Senato della Repubblica (atto n. 1275): Asseg...\n",
      "1  25G00014  [Senato della Repubblica (atto n. 1335): Prese...\n",
      "2  25G00011  [Senato della Repubblica (atto n. 1239): Asseg...\n",
      "3  25G00009  [Senato della Repubblica (atto n. 1315): Prese...\n",
      "4  25G00008  [Senato della Repubblica (atto n. 1128): Prese...\n"
     ]
    }
   ],
   "source": [
    "# Crea DataFrame solo per df['camera']\n",
    "df_senato = pd.DataFrame(df_corpus, columns=['id', 'senato'])\n",
    "\n",
    "# Salva come CSV\n",
    "df_senato.to_csv('senato.csv', index=False)\n",
    "\n",
    "# Verifica il risultato\n",
    "print(df_senato.head())"
   ]
  },
  {
   "cell_type": "markdown",
   "metadata": {},
   "source": [
    "Questa parte di seguito è da eliminare da questo notebook, lo lasciamo solo per mantenere l'output."
   ]
  },
  {
   "cell_type": "markdown",
   "metadata": {},
   "source": [
    "## Bigrammi"
   ]
  },
  {
   "cell_type": "code",
   "execution_count": null,
   "metadata": {},
   "outputs": [
    {
     "name": "stdout",
     "output_type": "stream",
     "text": [
      "sede referente: 69\n",
      "affari esteri: 45\n",
      "affari costituzionali: 43\n",
      "presidenza consiglio: 43\n",
      "esaminato aula: 37\n",
      "lavoro pubblico: 33\n",
      "pubblico privato: 33\n",
      "2024 pareri: 33\n",
      "pareri commissioni: 32\n",
      "lavori pubblici: 31\n",
      "affari sociali: 29\n",
      "esaminato commissione: 28\n",
      "politiche europea: 27\n",
      "questioni regionali: 26\n",
      "novembre 2024: 24\n",
      "bilancio tesoro: 23\n",
      "tesoro programmazione: 23\n",
      "dicembre 2024: 23\n",
      "esteri difesa: 23\n",
      "costituzionali presidenza: 22\n",
      "consiglio interni: 22\n",
      "programmazione economica: 22\n",
      "economica bilancio: 22\n",
      "regionali esaminato: 21\n",
      "ottobre 2024: 21\n",
      "costituzionali affari: 21\n",
      "affari presidenza: 21\n",
      "consiglio ordinamento: 21\n",
      "ordinamento generale: 21\n",
      "generale stato: 21\n",
      "stato pubblica: 21\n",
      "pubblica amministrazione: 21\n",
      "amministrazione editoria: 21\n",
      "editoria digitalizzazione: 21\n",
      "2024 approvato: 21\n",
      "commercio turismo: 21\n",
      "lavori preparatori: 20\n",
      "camera deputati: 20\n",
      "deputati atto: 20\n",
      "senato repubblica: 20\n",
      "repubblica atto: 20\n",
      "commissioni 1ª: 20\n",
      "1ª affari: 20\n",
      "commissioni affari: 18\n",
      "v bilancio: 18\n",
      "5ª programmazione: 18\n",
      "sociali sanità: 18\n",
      "sanità lavoro: 18\n",
      "privato previdenza: 18\n",
      "previdenza sociale: 18\n"
     ]
    }
   ],
   "source": [
    "print(\"Bigrammi più comuni:\\n\")\n",
    "\n",
    "ngrams = most_common_ngrams_corpus(prep_works_texts, 2, 50)\n",
    "print_ngrams(ngrams)"
   ]
  },
  {
   "cell_type": "markdown",
   "metadata": {},
   "source": [
    "# Trigrammi"
   ]
  },
  {
   "cell_type": "code",
   "execution_count": null,
   "metadata": {},
   "outputs": [
    {
     "name": "stdout",
     "output_type": "stream",
     "text": [
      "\n",
      "\n",
      "Trigrammi più comuni:\n",
      "lavoro pubblico privato: 33\n",
      "2024 pareri commissioni: 24\n",
      "bilancio tesoro programmazione: 23\n",
      "affari esteri difesa: 23\n",
      "affari costituzionali presidenza: 22\n",
      "costituzionali presidenza consiglio: 22\n",
      "presidenza consiglio interni: 22\n",
      "programmazione economica bilancio: 22\n",
      "questioni regionali esaminato: 21\n",
      "affari costituzionali affari: 21\n",
      "costituzionali affari presidenza: 21\n",
      "affari presidenza consiglio: 21\n",
      "presidenza consiglio ordinamento: 21\n",
      "consiglio ordinamento generale: 21\n",
      "ordinamento generale stato: 21\n",
      "generale stato pubblica: 21\n",
      "stato pubblica amministrazione: 21\n",
      "pubblica amministrazione editoria: 21\n",
      "amministrazione editoria digitalizzazione: 21\n",
      "camera deputati atto: 20\n",
      "senato repubblica atto: 20\n",
      "1ª affari costituzionali: 20\n",
      "commissioni 1ª affari: 19\n",
      "commissioni affari costituzionali: 18\n",
      "v bilancio tesoro: 18\n",
      "5ª programmazione economica: 18\n",
      "affari sociali sanità: 18\n",
      "sociali sanità lavoro: 18\n",
      "sanità lavoro pubblico: 18\n",
      "pubblico privato previdenza: 18\n",
      "privato previdenza sociale: 18\n",
      "3ª affari esteri: 18\n",
      "ambiente transizione ecologica: 17\n",
      "transizione ecologica energia: 17\n",
      "ecologica energia lavori: 17\n",
      "energia lavori pubblici: 17\n",
      "lavori pubblici comunicazioni: 17\n",
      "pubblici comunicazioni innovazione: 17\n",
      "comunicazioni innovazione tecnologica: 17\n",
      "pareri commissioni 1ª: 17\n",
      "affari esteri comunitari: 16\n",
      "pareri commissioni affari: 15\n",
      "ambiente territorio lavori: 14\n",
      "territorio lavori pubblici: 14\n",
      "xi lavoro pubblico: 14\n",
      "regionali esaminato commissione: 14\n",
      "10ª affari sociali: 14\n",
      "esteri difesa sede: 14\n",
      "difesa sede referente: 14\n",
      "iii affari esteri: 14\n"
     ]
    }
   ],
   "source": [
    "print(\"Trigrammi più comuni:\\n\")\n",
    "\n",
    "ngrams = most_common_ngrams_corpus(prep_works_texts, 3, 50)\n",
    "print_ngrams(ngrams)"
   ]
  }
 ],
 "metadata": {
  "kernelspec": {
   "display_name": "Python 3",
   "language": "python",
   "name": "python3"
  },
  "language_info": {
   "codemirror_mode": {
    "name": "ipython",
    "version": 3
   },
   "file_extension": ".py",
   "mimetype": "text/x-python",
   "name": "python",
   "nbconvert_exporter": "python",
   "pygments_lexer": "ipython3",
   "version": "3.10.7"
  }
 },
 "nbformat": 4,
 "nbformat_minor": 2
}

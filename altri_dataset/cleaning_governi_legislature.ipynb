{
 "cells": [
  {
   "cell_type": "markdown",
   "metadata": {},
   "source": [
    "# Cleaning the data on governments"
   ]
  },
  {
   "cell_type": "code",
   "execution_count": 20,
   "metadata": {},
   "outputs": [
    {
     "name": "stdout",
     "output_type": "stream",
     "text": [
      "    N°                prime_minister            start              end  \\\n",
      "0  NaN                           NaN           Inizio             Fine   \n",
      "1  1.0  Alcide De Gasperi(1881-1954)   14 luglio 1946  2 febbraio 1947   \n",
      "2  NaN                           NaN  2 febbraio 1947   1º giugno 1947   \n",
      "3  NaN                           NaN   1º giugno 1947   24 maggio 1948   \n",
      "4  NaN                           NaN   24 maggio 1948  27 gennaio 1950   \n",
      "\n",
      "                  party        government  \n",
      "0                   NaN               NaN  \n",
      "1  Democrazia Cristiana  De Gasperi II[2]  \n",
      "2                   NaN    De Gasperi III  \n",
      "3                   NaN     De Gasperi IV  \n",
      "4                   NaN      De Gasperi V  \n"
     ]
    }
   ],
   "source": [
    "import pandas as pd\n",
    "\n",
    "# Read the CSV file\n",
    "df_governi = pd.read_csv('governi.csv')\n",
    "print(df_governi.head())"
   ]
  },
  {
   "cell_type": "code",
   "execution_count": 21,
   "metadata": {},
   "outputs": [
    {
     "name": "stdout",
     "output_type": "stream",
     "text": [
      "   id                prime_minister       start         end  \\\n",
      "1   1  Alcide De Gasperi(1881-1954)  1946-07-14  1947-02-02   \n",
      "2   2                           NaN  1947-02-02  1947-06-1º   \n",
      "3   3                           NaN  1947-06-1º  1948-05-24   \n",
      "4   4                           NaN  1948-05-24  1950-01-27   \n",
      "5   5                           NaN  1950-01-27  1951-07-26   \n",
      "\n",
      "                  party        government  \n",
      "1  Democrazia Cristiana  De Gasperi II[2]  \n",
      "2                   NaN    De Gasperi III  \n",
      "3                   NaN     De Gasperi IV  \n",
      "4                   NaN      De Gasperi V  \n",
      "5                   NaN     De Gasperi VI  \n",
      "   id     prime_minister       start         end                 party  \\\n",
      "1   1  Alcide De Gasperi  1946-07-14  1947-02-02  Democrazia Cristiana   \n",
      "2   2                NaN  1947-02-02  1947-06-1º                   NaN   \n",
      "3   3                NaN  1947-06-1º  1948-05-24                   NaN   \n",
      "4   4                NaN  1948-05-24  1950-01-27                   NaN   \n",
      "5   5                NaN  1950-01-27  1951-07-26                   NaN   \n",
      "\n",
      "       government  \n",
      "1   De Gasperi II  \n",
      "2  De Gasperi III  \n",
      "3   De Gasperi IV  \n",
      "4    De Gasperi V  \n",
      "5   De Gasperi VI  \n",
      "   id     prime_minister       start         end                 party  \\\n",
      "1   1  Alcide De Gasperi  1946-07-14  1947-02-02  Democrazia Cristiana   \n",
      "2   2  Alcide De Gasperi  1947-02-02  1947-06-1º  Democrazia Cristiana   \n",
      "3   3  Alcide De Gasperi  1947-06-1º  1948-05-24  Democrazia Cristiana   \n",
      "4   4  Alcide De Gasperi  1948-05-24  1950-01-27  Democrazia Cristiana   \n",
      "5   5  Alcide De Gasperi  1950-01-27  1951-07-26  Democrazia Cristiana   \n",
      "\n",
      "       government  \n",
      "1   De Gasperi II  \n",
      "2  De Gasperi III  \n",
      "3   De Gasperi IV  \n",
      "4    De Gasperi V  \n",
      "5   De Gasperi VI  \n"
     ]
    },
    {
     "name": "stderr",
     "output_type": "stream",
     "text": [
      "C:\\Users\\Giovanni Parrillo\\AppData\\Local\\Temp\\ipykernel_6764\\3262025371.py:32: FutureWarning: A value is trying to be set on a copy of a DataFrame or Series through chained assignment using an inplace method.\n",
      "The behavior will change in pandas 3.0. This inplace method will never work because the intermediate object on which we are setting values always behaves as a copy.\n",
      "\n",
      "For example, when doing 'df[col].method(value, inplace=True)', try using 'df.method({col: value}, inplace=True)' or df[col] = df[col].method(value) instead, to perform the operation inplace on the original object.\n",
      "\n",
      "\n",
      "  df_governi['prime_minister'].fillna(method='ffill', inplace=True)\n",
      "C:\\Users\\Giovanni Parrillo\\AppData\\Local\\Temp\\ipykernel_6764\\3262025371.py:32: FutureWarning: Series.fillna with 'method' is deprecated and will raise in a future version. Use obj.ffill() or obj.bfill() instead.\n",
      "  df_governi['prime_minister'].fillna(method='ffill', inplace=True)\n",
      "C:\\Users\\Giovanni Parrillo\\AppData\\Local\\Temp\\ipykernel_6764\\3262025371.py:33: FutureWarning: A value is trying to be set on a copy of a DataFrame or Series through chained assignment using an inplace method.\n",
      "The behavior will change in pandas 3.0. This inplace method will never work because the intermediate object on which we are setting values always behaves as a copy.\n",
      "\n",
      "For example, when doing 'df[col].method(value, inplace=True)', try using 'df.method({col: value}, inplace=True)' or df[col] = df[col].method(value) instead, to perform the operation inplace on the original object.\n",
      "\n",
      "\n",
      "  df_governi['party'].fillna(method='ffill', inplace=True)\n",
      "C:\\Users\\Giovanni Parrillo\\AppData\\Local\\Temp\\ipykernel_6764\\3262025371.py:33: FutureWarning: Series.fillna with 'method' is deprecated and will raise in a future version. Use obj.ffill() or obj.bfill() instead.\n",
      "  df_governi['party'].fillna(method='ffill', inplace=True)\n"
     ]
    }
   ],
   "source": [
    "df_governi = df_governi.dropna(subset=['government'])\n",
    "\n",
    "\n",
    "df_governi = df_governi.drop(columns=['N°'])\n",
    "df_governi.insert(0, 'id', range(1, len(df_governi) + 1))\n",
    "\n",
    "# Function to translate Italian dates to YYYY-MM-DD format\n",
    "def translate_date(date_str):\n",
    "    months = {\n",
    "        'gennaio': '01', 'febbraio': '02', 'marzo': '03', 'aprile': '04', 'maggio': '05', 'giugno': '06',\n",
    "        'luglio': '07', 'agosto': '08', 'settembre': '09', 'ottobre': '10', 'novembre': '11', 'dicembre': '12'\n",
    "    }\n",
    "    parts = date_str.split()\n",
    "    if len(parts) == 3:\n",
    "        day, month, year = parts\n",
    "        return f\"{year}-{months[month]}-{day.zfill(2)}\"\n",
    "    else:\n",
    "        return date_str  # Return the original string if it doesn't match the expected format\n",
    "\n",
    "# Apply the function to the 'start' and 'end' columns\n",
    "df_governi['start'] = df_governi['start'].apply(translate_date)\n",
    "df_governi['end'] = df_governi['end'].apply(translate_date)\n",
    "print(df_governi.head())\n",
    "\n",
    "\n",
    "df_governi['prime_minister'] = df_governi['prime_minister'].str.replace(r'\\[.*?\\]', '', regex=True).str.replace(r'\\(.*?\\)', '', regex=True)\n",
    "df_governi['party'] = df_governi['party'].str.replace(r'\\[.*?\\]', '', regex=True).str.replace(r'\\(.*?\\)', '', regex=True)\n",
    "df_governi['government'] = df_governi['government'].str.replace(r'\\[.*?\\]', '', regex=True).str.replace(r'\\(.*?\\)', '', regex=True)\n",
    "print(df_governi.head())\n",
    "\n",
    "\n",
    "df_governi['prime_minister'].fillna(method='ffill', inplace=True)\n",
    "df_governi['party'].fillna(method='ffill', inplace=True)\n",
    "\n",
    "\n",
    "print(df_governi.head())\n",
    "# Save the cleaned data to a new CSV file\n",
    "df_governi.to_csv('governi_clean.csv', index=False)"
   ]
  },
  {
   "cell_type": "markdown",
   "metadata": {},
   "source": [
    "# Cleaning the data on legislatures"
   ]
  },
  {
   "cell_type": "code",
   "execution_count": 22,
   "metadata": {},
   "outputs": [
    {
     "name": "stdout",
     "output_type": "stream",
     "text": [
      "             legislature       election_day       start              end  \\\n",
      "0  Assemblea Costituente    2-3 giugno 1946  25/06/1946  31 gennaio 1948   \n",
      "1                      I  18-19 aprile 1948  08/05/1948   24 giugno 1953   \n",
      "2                     II    7-8 giugno 1953  25/06/1953   11 giugno 1958   \n",
      "3                    III  25-26 maggio 1958  12/06/1958   15 maggio 1963   \n",
      "4                     IV  28-29 aprile 1963  16/05/1963    4 giugno 1968   \n",
      "\n",
      "   days  years  governments  prime_ministers  \n",
      "0   586      2            3                1  \n",
      "1  1874      5            3                1  \n",
      "2  1813      5            6                6  \n",
      "3  1799      5            5                3  \n",
      "4  1847      5            4                2  \n"
     ]
    }
   ],
   "source": [
    "# Read the CSV file\n",
    "df_legislature = pd.read_csv('legislature.csv')\n",
    "print(df_legislature.head())\n",
    "\n"
   ]
  },
  {
   "cell_type": "code",
   "execution_count": 23,
   "metadata": {},
   "outputs": [
    {
     "name": "stdout",
     "output_type": "stream",
     "text": [
      "   id            legislature election_day       start         end  days  \\\n",
      "0   1  Assemblea Costituente   1946-06-02  1946-06-25  1948-01-31   586   \n",
      "1   2                      I   1948-04-18  1948-05-08  1953-06-24  1874   \n",
      "2   3                     II   1953-06-07  1953-06-25  1958-06-11  1813   \n",
      "3   4                    III   1958-05-25  1958-06-12  1963-05-15  1799   \n",
      "4   5                     IV   1963-04-28  1963-05-16  1968-06-04  1847   \n",
      "\n",
      "   years  governments  prime_ministers  \n",
      "0      2            3                1  \n",
      "1      5            3                1  \n",
      "2      5            6                6  \n",
      "3      5            5                3  \n",
      "4      5            4                2  \n"
     ]
    }
   ],
   "source": [
    "# Add an id column\n",
    "df_legislature.insert(0, 'id', range(1, len(df_legislature) + 1))\n",
    "\n",
    "\n",
    "months = {\n",
    "    'gennaio': '01', 'febbraio': '02', 'marzo': '03', 'aprile': '04', 'maggio': '05', 'giugno': '06',\n",
    "    'luglio': '07', 'agosto': '08', 'settembre': '09', 'ottobre': '10', 'novembre': '11', 'dicembre': '12'\n",
    "}\n",
    "\n",
    "# Function to translate Italian dates to YYYY-MM-DD format\n",
    "def translate_date(date_str):\n",
    "    parts = date_str.split()\n",
    "    if len(parts) == 3:\n",
    "        day, month, year = parts\n",
    "        return f\"{year}-{months[month]}-{day.zfill(2)}\"\n",
    "    else:\n",
    "        return date_str  # Return the original string if it doesn't match the expected format\n",
    "\n",
    "# Apply the function to the 'end' column\n",
    "df_legislature['end'] = df_legislature['end'].apply(translate_date)\n",
    "\n",
    "# Convert 'start' column to YYYY-MM-DD format\n",
    "df_legislature['start'] = pd.to_datetime(df_legislature['start'], format='%d/%m/%Y').dt.strftime('%Y-%m-%d')\n",
    "\n",
    "# Convert 'election_day' column to YYYY-MM-DD format\n",
    "def translate_election_day(date_str):\n",
    "    parts = date_str.split()\n",
    "    if len(parts) == 3:\n",
    "        day_range, month, year = parts\n",
    "        first_day = day_range.split('-')[0]\n",
    "        return f\"{year}-{months[month]}-{first_day.zfill(2)}\"\n",
    "    else:\n",
    "        return date_str  # Return the original string if it doesn't match the expected format\n",
    "\n",
    "df_legislature['election_day'] = df_legislature['election_day'].apply(translate_election_day)\n",
    "\n",
    "print(df_legislature.head())\n",
    "\n",
    "# Save the cleaned data to a new CSV file\n",
    "df_legislature.to_csv('legislature_clean.csv', index=False)"
   ]
  },
  {
   "cell_type": "code",
   "execution_count": null,
   "metadata": {},
   "outputs": [],
   "source": []
  }
 ],
 "metadata": {
  "kernelspec": {
   "display_name": "Python 3",
   "language": "python",
   "name": "python3"
  },
  "language_info": {
   "codemirror_mode": {
    "name": "ipython",
    "version": 3
   },
   "file_extension": ".py",
   "mimetype": "text/x-python",
   "name": "python",
   "nbconvert_exporter": "python",
   "pygments_lexer": "ipython3",
   "version": "3.12.3"
  }
 },
 "nbformat": 4,
 "nbformat_minor": 2
}

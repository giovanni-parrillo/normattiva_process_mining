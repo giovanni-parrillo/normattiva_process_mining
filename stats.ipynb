{
 "cells": [
  {
   "cell_type": "markdown",
   "metadata": {},
   "source": [
    "# Text Stats"
   ]
  },
  {
   "cell_type": "code",
   "execution_count": null,
   "metadata": {},
   "outputs": [],
   "source": [
    "import pandas as pd\n",
    "from utils import *\n",
    "\n",
    "df = pd.read_csv('normattiva_prep_works.csv')\n",
    "\n",
    "df.head()"
   ]
  },
  {
   "cell_type": "code",
   "execution_count": null,
   "metadata": {},
   "outputs": [],
   "source": [
    "# Get small dataframe [id,text] to work with\n",
    "df_corpus = df[['id','prep_works']].head(50)\n",
    "print(df_corpus.head())"
   ]
  },
  {
   "cell_type": "code",
   "execution_count": null,
   "metadata": {},
   "outputs": [],
   "source": [
    "# Function to remove 'LAVORI PREPARATORI ' from text\n",
    "def remove_prep_works(text):\n",
    "    return text.replace('LAVORI PREPARATORI ', '')\n",
    "\n",
    "# Apply function to text\n",
    "df_corpus['prep_works'] = df_corpus['prep_works'].apply(remove_prep_works)\n",
    "\n",
    "print(df_corpus.head())"
   ]
  },
  {
   "cell_type": "code",
   "execution_count": null,
   "metadata": {},
   "outputs": [],
   "source": [
    "# Unisce tutti i testi in un unico corpus\n",
    "corpus = ' '.join(prep_works_texts)\n",
    "\n",
    "# Tokenizza il corpus e rimuove la punteggiatura\n",
    "tokens = rimuovi_punteggiatura(word_tokenize(corpus))\n",
    "\n",
    "# Rimuove le stop words\n",
    "tokens = rimuovi_stopwords(tokens)\n",
    "\n",
    "# Calcola la frequenza delle parole\n",
    "freq_dist = FreqDist(tokens)\n",
    "\n",
    "# Statistiche di base\n",
    "print(f\"Numero totale di parole: {len(tokens)}\")\n",
    "print(f\"Numero di parole uniche: {len(set(tokens))}\")\n",
    "\n",
    "# Stampa le 50 parole più comuni\n",
    "print\n",
    "for i in range(50):\n",
    "    print(f\"{freq_dist.most_common(50)[i][0]}: {freq_dist.most_common(50)[i][1]}\")"
   ]
  },
  {
   "cell_type": "code",
   "execution_count": null,
   "metadata": {},
   "outputs": [],
   "source": [
    "print(\"Bigrammi più comuni:\\n\")\n",
    "\n",
    "ngrams = most_common_ngrams_corpus(prep_works_texts, 2, 50)\n",
    "print_ngrams(ngrams)"
   ]
  },
  {
   "cell_type": "code",
   "execution_count": null,
   "metadata": {},
   "outputs": [],
   "source": [
    "print(\"Trigrammi più comuni:\\n\")\n",
    "\n",
    "ngrams = most_common_ngrams_corpus(prep_works_texts, 3, 50)\n",
    "print_ngrams(ngrams)"
   ]
  }
 ],
 "metadata": {
  "kernelspec": {
   "display_name": "Python 3",
   "language": "python",
   "name": "python3"
  },
  "language_info": {
   "name": "python",
   "version": "3.10.7"
  }
 },
 "nbformat": 4,
 "nbformat_minor": 2
}
